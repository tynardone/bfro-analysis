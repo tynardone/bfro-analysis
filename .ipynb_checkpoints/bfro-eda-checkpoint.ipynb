{
 "cells": [
  {
   "cell_type": "markdown",
   "id": "fca8c8ff",
   "metadata": {},
   "source": [
    "# BFRO Sightings EDA"
   ]
  },
  {
   "cell_type": "code",
   "execution_count": 3,
   "id": "905b5052",
   "metadata": {},
   "outputs": [],
   "source": [
    "import pandas as pd\n",
    "import matplotlib.pyplot as plt"
   ]
  },
  {
   "cell_type": "code",
   "execution_count": 23,
   "id": "8447d81f",
   "metadata": {},
   "outputs": [],
   "source": [
    "df = (pd.read_csv('data/bfro_raw.csv', index_col=0)\n",
    "     )"
   ]
  },
  {
   "cell_type": "code",
   "execution_count": 26,
   "id": "3cc3db7c",
   "metadata": {},
   "outputs": [],
   "source": [
    "def tweak_df(df):\n",
    "    # fix dtypes\n",
    "    # string edits\n",
    "    # dates\n",
    "    # categories\n",
    "    \n",
    "    return (df\n",
    "           )"
   ]
  },
  {
   "cell_type": "code",
   "execution_count": 30,
   "id": "795952e6",
   "metadata": {},
   "outputs": [
    {
     "data": {
      "text/plain": [
       "reportheader            object\n",
       "reportclassification    object\n",
       "year                    object\n",
       "season                  object\n",
       "month                   object\n",
       "state                   object\n",
       "county                  object\n",
       "nearest_town            object\n",
       "observed                object\n",
       "also_noticed            object\n",
       "other_witnesses         object\n",
       "other_stories           object\n",
       "time_and_conditions     object\n",
       "environment             object\n",
       "country                 object\n",
       "province                object\n",
       "location_details        object\n",
       "dtype: object"
      ]
     },
     "execution_count": 30,
     "metadata": {},
     "output_type": "execute_result"
    }
   ],
   "source": []
  },
  {
   "cell_type": "code",
   "execution_count": null,
   "id": "aeb9d683",
   "metadata": {},
   "outputs": [],
   "source": []
  }
 ],
 "metadata": {
  "kernelspec": {
   "display_name": "bfro-env",
   "language": "python",
   "name": "bfro-env"
  },
  "language_info": {
   "codemirror_mode": {
    "name": "ipython",
    "version": 3
   },
   "file_extension": ".py",
   "mimetype": "text/x-python",
   "name": "python",
   "nbconvert_exporter": "python",
   "pygments_lexer": "ipython3",
   "version": "3.11.0"
  }
 },
 "nbformat": 4,
 "nbformat_minor": 5
}
