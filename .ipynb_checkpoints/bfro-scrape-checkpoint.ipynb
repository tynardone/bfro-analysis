{
 "cells": [
  {
   "cell_type": "markdown",
   "id": "5d7b3e31",
   "metadata": {},
   "source": [
    "# BFRO Site Scraper\n",
    "\n",
    "This notebook is for scraping Bigfoot sighting data from Bigfoot Field Research Organization's report database found here http://www.bfro.net/gdb/."
   ]
  },
  {
   "cell_type": "code",
   "execution_count": 332,
   "id": "481d58a8",
   "metadata": {
    "tags": []
   },
   "outputs": [],
   "source": [
    "import pandas as pd\n",
    "import requests\n",
    "from bs4 import BeautifulSoup\n",
    "import random"
   ]
  },
  {
   "cell_type": "code",
   "execution_count": 198,
   "id": "ed14ecb2",
   "metadata": {
    "tags": []
   },
   "outputs": [],
   "source": [
    "# Grab html from the bfro geographic database page \n",
    "response = requests.get(\"http://www.bfro.net/gdb\")\n",
    "soup = BeautifulSoup(response.content, 'html.parser')\n",
    "\n",
    "# Grab all href from main page\n",
    "links = soup.find_all('a', href=True)\n",
    "\n",
    "# Grab state and providence links for us and canada\n",
    "# Store separate because states have county links before report links\n",
    "canada_links = []\n",
    "us_state_links = []\n",
    "\n",
    "base_url = \"http://www.bfro.net\"\n",
    "\n",
    "for a in links:\n",
    "    if \"state=ca-\" in a['href']:\n",
    "        canada_links.append(base_url + a['href'])\n",
    "    elif \"state=int\" in a['href']:\n",
    "        pass\n",
    "    elif \"state\" in a['href']:\n",
    "        us_state_links.append(base_url + a['href'])\n",
    "\n",
    "assert len(us_state_links) == 49\n",
    "assert len(canada_links) == 9"
   ]
  },
  {
   "cell_type": "code",
   "execution_count": 199,
   "id": "451be326",
   "metadata": {},
   "outputs": [],
   "source": [
    "# Loop through state links and grab all the county links\n",
    "\n",
    "us_county_links = []\n",
    "\n",
    "for url in us_state_links:\n",
    "    \n",
    "    response = requests.get(url)\n",
    "    assert response.ok\n",
    "    \n",
    "    soup = BeautifulSoup(response.content, 'html.parser')\n",
    "    anchor_tags = soup.find_all('a', href=lambda href: href and \"county\" in href)\n",
    "    \n",
    "    if anchor_tags:\n",
    "        for a in anchor_tags:\n",
    "            us_county_links.append(\"http://www.bfro.net/gdb/\" + a['href'])\n",
    "        \n",
    "    \n"
   ]
  },
  {
   "cell_type": "code",
   "execution_count": 323,
   "id": "7c0b24e5",
   "metadata": {},
   "outputs": [],
   "source": [
    "# pull out links for the report pages\n",
    "def get_report_urls(urls):\n",
    "    report_urls = []\n",
    "    for url in urls:\n",
    "        response = requests.get(url)\n",
    "        assert response.ok\n",
    "        soup = BeautifulSoup(response.content, 'html.parser')\n",
    "        anchor_tags = soup.find_all('a', href=lambda href: href and 'show_report.asp?id' in href)\n",
    "    \n",
    "        if anchor_tags:\n",
    "            for a in anchor_tags:\n",
    "                report_urls.append(\"http://www.bfro.net/gdb/\" + a['href'])\n",
    "    return report_urls\n",
    "\n",
    "report_urls = get_report_urls(us_county_links) + get_report_urls(canada_links)\n"
   ]
  },
  {
   "cell_type": "code",
   "execution_count": 326,
   "id": "e4c2c69f",
   "metadata": {},
   "outputs": [
    {
     "data": {
      "text/plain": [
       "'http://www.bfro.net/gdb/show_report.asp?id=12266'"
      ]
     },
     "execution_count": 326,
     "metadata": {},
     "output_type": "execute_result"
    }
   ],
   "source": [
    "report_urls[300]"
   ]
  },
  {
   "cell_type": "code",
   "execution_count": 390,
   "id": "e6905aa2",
   "metadata": {},
   "outputs": [],
   "source": [
    "def scrape_report_data(url):\n",
    "    \n",
    "    report_dict = {}\n",
    "    \n",
    "    try:\n",
    "        response = requests.get(url)\n",
    "    except requests.exceptions.RequestException as e:  # This is the correct syntax\n",
    "        raise SystemExit(e)\n",
    "    \n",
    "    soup = BeautifulSoup(response.content, 'html.parser')\n",
    " \n",
    "    \n",
    "    # Extract the header information stored in span with class    \n",
    "    html_class = ['reportheader', 'reportclassification']\n",
    "    for c in html_class:\n",
    "        element = soup.find('span', {'class': c})\n",
    "        if element:\n",
    "            report_dict[c] = element.text.strip()\n",
    "        else:\n",
    "            report_dict[c] = \"did not find \"\n",
    "        \n",
    "    # Extract other details\n",
    "    def extract(text):\n",
    "        if text == \"LOCATION DETAILS\":\n",
    "            element = soup.find('span', {'class':'field'}, string=text)\n",
    "            if element:\n",
    "                return element.parent.text.strip()\n",
    "            else: \n",
    "                return \"did not find\"\n",
    "        else:\n",
    "            element = soup.find('span', {'class': 'field'}, string=text)\n",
    "            if element:\n",
    "                return element.parent.text.replace(text, \"\").strip()\n",
    "            else:\n",
    "                return \"\"\n",
    "\n",
    "    year = extract('YEAR:')\n",
    "    season = extract('SEASON:')\n",
    "    month = extract('MONTH:')\n",
    "    state = extract(\"STATE:\")\n",
    "    county = extract(\"COUNTY:\")\n",
    "    nearest_town = extract(\"NEAREST TOWN:\")\n",
    "    observed = extract(\"OBSERVED:\")\n",
    "    also_noticed = extract(\"ALSO NOTICED:\")\n",
    "    other_witnesses = extract(\"OTHER WITNESSES:\")\n",
    "    other_stories = extract(\"OTHER STORIES:\")\n",
    "    time_and_conditions = extract(\"TIME AND CONDITIONS:\")\n",
    "    environment = extract(\"ENVIRONMENT:\")\n",
    "    country = extract('COUNTRY:')\n",
    "    province = extract('PROVINCE:')\n",
    "    location_details = extract('LOCATION DETAILS:')\n",
    "    \n",
    "    report_dict['year'] = year\n",
    "    report_dict['season'] = season\n",
    "    report_dict['month'] = month\n",
    "    report_dict['state'] = state\n",
    "    report_dict['county'] = county\n",
    "    report_dict['nearest_town'] = nearest_town\n",
    "    report_dict['observed'] = observed\n",
    "    report_dict['also_noticed'] = also_noticed\n",
    "    report_dict['other_witnesses'] = other_witnesses\n",
    "    report_dict['other_stories'] = other_stories\n",
    "    report_dict['time_and_conditions'] = time_and_conditions\n",
    "    report_dict['environment'] = environment\n",
    "    report_dict['country'] = country\n",
    "    report_dict['province'] = province\n",
    "    report_dict['location_details'] = location_details\n",
    "    \n",
    "    return report_dict"
   ]
  },
  {
   "cell_type": "code",
   "execution_count": 391,
   "id": "07bbd19a",
   "metadata": {},
   "outputs": [],
   "source": [
    "test_urls = random.sample(report_urls, 3)\n",
    "test_data = []\n",
    "for url in test_urls:\n",
    "    test_data.append(scrape_report_data(url))"
   ]
  },
  {
   "cell_type": "code",
   "execution_count": 393,
   "id": "5cdfbe88",
   "metadata": {},
   "outputs": [
    {
     "data": {
      "text/plain": [
       "{'reportheader': 'Report # 55554',\n",
       " 'reportclassification': '(Class B)',\n",
       " 'year': '2016',\n",
       " 'season': 'Fall',\n",
       " 'month': 'September',\n",
       " 'state': 'West Virginia',\n",
       " 'county': 'Pocahontas County',\n",
       " 'nearest_town': 'Marlinton, WV',\n",
       " 'observed': 'My wife and I were taking an evening drive on Highland Scenic Highway 150, from US 219 near Slatyfork, WV, to the Cranberry Glades area on Tuesday evening 9/6/16.  We had been stopping at the scenic overlooks taking pictures, and had just left the Williams River overlook, and headed south on 150.  There was a stretch of highway that was very straight and a downslope of about 4-6% about 1-2 miles south of the Williams River overlook.  As we were driving down, we both noticed something in the weeds between the road edge and the bank leading up to the woods on the west side.  At first I thought it was a deer, with its head and neck stretched up above the weeds.  It was about 300-400 feet ahead, and while we continued towards it, it spun around, similar to an about face, but with the head dropping and a semi-crouch as it was turning.  It jumped up onto the bank, reaching for a branch to aid in pulling itself up.  By the time it jumped, we were within 80-100 feet of it.  By the time we got to where it had been standing, it was nowhere in sight, and we could hear no sounds of running or branches breaking in the piney woods along the road.  We both noticed that the weeds at this point and all along the area, were even with the hood on the 3/4 ton Chevy pickup we were in, making the estimate on the height of the creature at about 7-7 1/2 ft tall.  The creature was a mix of brown, and brown gold fur, longer than deer hair, but not as long as collie fur.  I have never discounted that Sasquatch could be real, but this firsthand experience has removed my doubt.  As we left the area, my arms and neck were covered in goose-flesh, and we were both speechless for about 10 minutes.',\n",
       " 'also_noticed': '',\n",
       " 'other_witnesses': 'Myself, and my wife.  We were driving on the scenic highway taking pictures of the long range views and the sunset.',\n",
       " 'other_stories': 'I have heard stories all over the state, but up till now, none in the Cranberry area.',\n",
       " 'time_and_conditions': '1930 hrs (7:30 pm)Scattered cumulus clouds at 6000-10000ft. apprx.Visibility on the ridge 20 miles.  Sun had dropped behind a cloud right at the horizon, so it was coming fast onto dusk',\n",
       " 'environment': 'Piney woods and mixed hardwoods, mountain ridge.Highland Scenic Highway 150 between Williams River and Cranberry Glades.',\n",
       " 'country': '',\n",
       " 'province': '',\n",
       " 'location_details': 'did not find'}"
      ]
     },
     "execution_count": 393,
     "metadata": {},
     "output_type": "execute_result"
    }
   ],
   "source": [
    "test_data[1]"
   ]
  },
  {
   "cell_type": "code",
   "execution_count": 290,
   "id": "48abf23c",
   "metadata": {},
   "outputs": [
    {
     "data": {
      "text/plain": [
       "{'report_number': '40345',\n",
       " 'classification': '(Class B)',\n",
       " 'location_details': 'LOCATION DETAILS:',\n",
       " 'year': '2013',\n",
       " 'season': 'Winter',\n",
       " 'month': 'March',\n",
       " 'state': '',\n",
       " 'county': '',\n",
       " 'nearest_town': 'Campbell River, BC',\n",
       " 'observed': \"At approx 5:00 pm March 12th 2013, Campbell River, B.C. my husband and I were out getting a load of firewood on a logging road North of the city. We had an experience in the woods neither of us are able to explain. We are both very familiar with the sounds and local animals as we have grown up on the West Coast. My husband being a West Cost logger, knowing the woods well, and myself a camper all my life. My husband started off by chopping wood lower down on the logging road. It was overcast and raining lightly at the time. We moved our way up the road gathering firewood.  When we got to the top my husband turned the truck around and once again got out to cut wood, when we heard a whooping two-toned call from the woods to one side of us.  It was sounding so piercingly clear, it carried through all around. My husband called over and asked me if I heard that and as I was getting out of the truck the call was made again.  Suddenly from the other side to where my husband stood a slightly higher pitched response rang out from the trees.  What now seemed to take place was some sort of communication between two of what seemed to be intelligent things.  This continued on for approx. 1 min. where by the end we were sure we were listening to some kind of conversation and that somehow we were not alone.  I am 50 years-old and for the first time felt a fear standing there in the woods. My husband, 55, now looking over his shoulder to pick up pieces of wood. As suddenly as the sounds started the woods fell silent again.  I did notice that by the end of this communication, the one on the left of where I was standing had traveled away slightly by the clarity of the sounds.  I also noticed that while this was going on all the other sounds of the woods, birds, frogs etc. seemed to be silent, but by the time we worked our way back down the logging road collecting the wood, I could once again hear the natural sounds of the woods again, which in itself seemed strange.  We have been trying to logically figure out what this could have been since happening yesterday, and only know what it could not have been not what it could have been.  It wasn't a wolf, coyote, bear, elk, dear, cougar the list could go on. I only know I have no answers as to what we heard.\",\n",
       " 'also_noticed': 'I noted that at the time of the vocalizations from the woods, all other normal sounds of the woods seemed to go silent.  Once the vocals stopped, within 5-10 minutes the natural sounds of the woods seemed to come back gradually.',\n",
       " 'other_witnesses': '2 witnesses, my husband was chopping fire wood and I was sitting in the truck',\n",
       " 'other_stories': '',\n",
       " 'time_and_conditions': '5:00pm overcast and slightly raining',\n",
       " 'environment': 'This is an active logging area in a second growth forest approx. 60 yrs. in age.The area is heavily populated by deer and elk. There are numerous creeks in the area. It is a mixed forest of Douglas Fir, Hemlock, Red Cedar, Maple and Alder.'}"
      ]
     },
     "execution_count": 290,
     "metadata": {},
     "output_type": "execute_result"
    }
   ],
   "source": [
    "report"
   ]
  },
  {
   "cell_type": "code",
   "execution_count": 287,
   "id": "60801d75",
   "metadata": {},
   "outputs": [
    {
     "data": {
      "text/plain": [
       "['http://www.bfro.net/GDB/show_county_reports.asp?state=ca-al',\n",
       " 'http://www.bfro.net/GDB/show_county_reports.asp?state=ca-bc',\n",
       " 'http://www.bfro.net/GDB/show_county_reports.asp?state=ca-mn',\n",
       " 'http://www.bfro.net/GDB/show_county_reports.asp?state=ca-nb',\n",
       " 'http://www.bfro.net/GDB/show_county_reports.asp?state=ca-ns',\n",
       " 'http://www.bfro.net/GDB/show_county_reports.asp?state=ca-on',\n",
       " 'http://www.bfro.net/GDB/show_county_reports.asp?state=ca-qu',\n",
       " 'http://www.bfro.net/GDB/show_county_reports.asp?state=ca-sk',\n",
       " 'http://www.bfro.net/GDB/show_county_reports.asp?state=ca-yu']"
      ]
     },
     "execution_count": 287,
     "metadata": {},
     "output_type": "execute_result"
    }
   ],
   "source": []
  },
  {
   "cell_type": "code",
   "execution_count": 328,
   "id": "4ea15517",
   "metadata": {},
   "outputs": [],
   "source": []
  },
  {
   "cell_type": "code",
   "execution_count": 330,
   "id": "8bd699a9",
   "metadata": {},
   "outputs": [],
   "source": []
  },
  {
   "cell_type": "code",
   "execution_count": 331,
   "id": "77166b7a",
   "metadata": {},
   "outputs": [
    {
     "data": {
      "text/html": [
       "<div>\n",
       "<style scoped>\n",
       "    .dataframe tbody tr th:only-of-type {\n",
       "        vertical-align: middle;\n",
       "    }\n",
       "\n",
       "    .dataframe tbody tr th {\n",
       "        vertical-align: top;\n",
       "    }\n",
       "\n",
       "    .dataframe thead th {\n",
       "        text-align: right;\n",
       "    }\n",
       "</style>\n",
       "<table border=\"1\" class=\"dataframe\">\n",
       "  <thead>\n",
       "    <tr style=\"text-align: right;\">\n",
       "      <th></th>\n",
       "      <th>fish</th>\n",
       "      <th>veg</th>\n",
       "    </tr>\n",
       "  </thead>\n",
       "  <tbody>\n",
       "    <tr>\n",
       "      <th>0</th>\n",
       "      <td>salmon</td>\n",
       "      <td>kale</td>\n",
       "    </tr>\n",
       "    <tr>\n",
       "      <th>1</th>\n",
       "      <td>cod</td>\n",
       "      <td>NaN</td>\n",
       "    </tr>\n",
       "  </tbody>\n",
       "</table>\n",
       "</div>"
      ],
      "text/plain": [
       "     fish   veg\n",
       "0  salmon  kale\n",
       "1     cod   NaN"
      ]
     },
     "execution_count": 331,
     "metadata": {},
     "output_type": "execute_result"
    }
   ],
   "source": [
    "\n"
   ]
  },
  {
   "cell_type": "code",
   "execution_count": null,
   "id": "d1bcfb9c",
   "metadata": {},
   "outputs": [],
   "source": []
  }
 ],
 "metadata": {
  "kernelspec": {
   "display_name": "bfro-env",
   "language": "python",
   "name": "bfro-env"
  },
  "language_info": {
   "codemirror_mode": {
    "name": "ipython",
    "version": 3
   },
   "file_extension": ".py",
   "mimetype": "text/x-python",
   "name": "python",
   "nbconvert_exporter": "python",
   "pygments_lexer": "ipython3",
   "version": "3.11.0"
  }
 },
 "nbformat": 4,
 "nbformat_minor": 5
}
